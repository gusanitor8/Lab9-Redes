{
 "cells": [
  {
   "cell_type": "code",
   "execution_count": 1,
   "metadata": {},
   "outputs": [],
   "source": [
    "import numpy as np\n",
    "import random\n",
    "import json\n",
    "import time\n",
    "from kafka import KafkaProducer"
   ]
  },
  {
   "cell_type": "markdown",
   "metadata": {},
   "source": [
    "## Variables de Ambiente"
   ]
  },
  {
   "cell_type": "code",
   "execution_count": 2,
   "metadata": {},
   "outputs": [],
   "source": [
    "KAFKA_SERVER = 'lab9.alumchat.lol:9092'\n",
    "TOPIC = '21438' "
   ]
  },
  {
   "cell_type": "markdown",
   "metadata": {},
   "source": [
    "## Simulación de Sensores"
   ]
  },
  {
   "cell_type": "code",
   "execution_count": 3,
   "metadata": {},
   "outputs": [],
   "source": [
    "def get_temperature(mean_temp: int, std_dev: int):\n",
    "    res = np.random.normal(mean_temp, std_dev, 1)[0]\n",
    "    return round(res, 2)\n",
    "\n",
    "def get_humidity(mean_humidity: int, std_dev: int):\n",
    "    humidity_sample = np.random.normal(mean_humidity, std_dev, 1)\n",
    "    res = np.clip(humidity_sample, 0, 100)[0]\n",
    "    return round(res, 2)\n",
    "\n",
    "def get_wind_dir():\n",
    "    directions = [\"N\", \"NO\", \"O\", \"SO\", \"S\", \"SE\", \"E\", \"NE\"]\n",
    "    return random.choice(directions)\n",
    "\n",
    "def to_dict(temp: int, humidity: int, wind_dir: str):\n",
    "    dictionary = {\n",
    "        \"temperatura\": temp,\n",
    "        \"humedad\": humidity,\n",
    "        \"direccion_viento\": wind_dir\n",
    "    }\n",
    "\n",
    "    return json.dumps(dictionary)"
   ]
  },
  {
   "cell_type": "markdown",
   "metadata": {},
   "source": [
    "## Envío de Datos al Edge Server\n",
    "Nota: El stream de datos debe detenerse manualmente, de forma que se levante un `KeyboardInterupt`."
   ]
  },
  {
   "cell_type": "code",
   "execution_count": 4,
   "metadata": {},
   "outputs": [],
   "source": [
    "def send_data(producer):\n",
    "    while True:\n",
    "        temperature = get_temperature(mean_temp=15, std_dev=5)\n",
    "        humidity = get_humidity(mean_humidity=60, std_dev=15)    \n",
    "        wind_dir = get_wind_dir()\n",
    "        data = to_dict(temperature, humidity, wind_dir)\n",
    "\n",
    "        # Genera y envía los datos        \n",
    "        producer.send(TOPIC, data)\n",
    "        print(f\"Enviado: {data}\")\n",
    "\n",
    "        # Espera entre 15 y 30 segundos antes de enviar el siguiente dato\n",
    "        time_to_sleep = random.randint(15, 30)\n",
    "        time.sleep(time_to_sleep)"
   ]
  },
  {
   "cell_type": "code",
   "execution_count": 6,
   "metadata": {},
   "outputs": [
    {
     "name": "stdout",
     "output_type": "stream",
     "text": [
      "Enviado: {\"temperatura\": 14.25, \"humedad\": 67.87, \"direccion_viento\": \"N\"}\n",
      "Enviado: {\"temperatura\": 12.97, \"humedad\": 66.02, \"direccion_viento\": \"O\"}\n",
      "Enviado: {\"temperatura\": 18.61, \"humedad\": 64.81, \"direccion_viento\": \"S\"}\n",
      "Process finished successfully\n"
     ]
    }
   ],
   "source": [
    "producer = KafkaProducer(\n",
    "    bootstrap_servers=KAFKA_SERVER,\n",
    "    value_serializer=lambda v: json.dumps(v).encode('utf-8')\n",
    ")\n",
    "\n",
    "try:\n",
    "    send_data(producer)\n",
    "except KeyboardInterrupt:\n",
    "    print(\"Process finished successfully\")\n",
    "finally:\n",
    "    # Ensure all messages are sent\n",
    "    producer.flush()\n",
    "    producer.close()"
   ]
  },
  {
   "cell_type": "markdown",
   "metadata": {},
   "source": [
    "## Consumir y Desplegar Datos Meteorológicos"
   ]
  },
  {
   "cell_type": "code",
   "execution_count": null,
   "metadata": {},
   "outputs": [],
   "source": []
  }
 ],
 "metadata": {
  "kernelspec": {
   "display_name": "redes_lab9",
   "language": "python",
   "name": "python3"
  },
  "language_info": {
   "codemirror_mode": {
    "name": "ipython",
    "version": 3
   },
   "file_extension": ".py",
   "mimetype": "text/x-python",
   "name": "python",
   "nbconvert_exporter": "python",
   "pygments_lexer": "ipython3",
   "version": "3.10.15"
  }
 },
 "nbformat": 4,
 "nbformat_minor": 2
}
