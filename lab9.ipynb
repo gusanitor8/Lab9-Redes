{
 "cells": [
  {
   "cell_type": "code",
   "execution_count": 1,
   "metadata": {},
   "outputs": [],
   "source": [
    "import numpy as np\n",
    "import random\n",
    "import json\n",
    "import time\n",
    "from kafka import KafkaProducer, KafkaConsumer\n",
    "import matplotlib.pyplot as plt"
   ]
  },
  {
   "cell_type": "markdown",
   "metadata": {},
   "source": [
    "## Variables de Ambiente"
   ]
  },
  {
   "cell_type": "code",
   "execution_count": 2,
   "metadata": {},
   "outputs": [],
   "source": [
    "KAFKA_SERVER = 'lab9.alumchat.lol:9092'\n",
    "TOPIC = '21438' "
   ]
  },
  {
   "cell_type": "markdown",
   "metadata": {},
   "source": [
    "## IoT en Entornos con Restricciones"
   ]
  },
  {
   "cell_type": "code",
   "execution_count": 3,
   "metadata": {},
   "outputs": [],
   "source": [
    "# map tables\n",
    "# directions = [\"N\", \"NO\", \"O\", \"SO\", \"S\", \"SE\", \"E\", \"NE\"]\n",
    "wind_to_byte = {\n",
    "    \"N\": \"000\",\n",
    "    \"NO\": \"001\",\n",
    "    \"O\": \"010\",\n",
    "    \"SO\": \"011\",\n",
    "    \"S\": \"100\",\n",
    "    \"SE\": \"101\",\n",
    "    \"E\": \"110\",\n",
    "    \"NE\": \"111\"\n",
    "}\n",
    "\n",
    "byte_to_wind = {\n",
    "    \"000\": \"N\",\n",
    "    \"001\": \"NO\",\n",
    "    \"010\": \"O\",\n",
    "    \"011\": \"SO\",\n",
    "    \"100\": \"S\",\n",
    "    \"101\": \"SE\",\n",
    "    \"110\": \"E\",\n",
    "    \"111\": \"NE\"\n",
    "}"
   ]
  },
  {
   "cell_type": "code",
   "execution_count": 4,
   "metadata": {},
   "outputs": [
    {
     "name": "stdout",
     "output_type": "stream",
     "text": [
      "The binary representation is: 001000111010001000101100\n"
     ]
    }
   ],
   "source": [
    "\n",
    "def binary_string_to_byte(binary_string):\n",
    "    # Ensure the binary string length is a multiple of 8\n",
    "    if len(binary_string) % 8 != 0:\n",
    "        raise ValueError(\"Binary string length must be a multiple of 8.\")\n",
    "    \n",
    "    # Split the binary string into chunks of 8 bits (1 byte)\n",
    "    bytes_list = [binary_string[i:i+8] for i in range(0, len(binary_string), 8)]\n",
    "    \n",
    "    # Convert each chunk into a byte\n",
    "    byte_array = bytearray()\n",
    "    for byte in bytes_list:\n",
    "        integer_value = int(byte, 2)  # Convert the binary string to an integer\n",
    "        byte_array.append(integer_value)  # Append the byte to the bytearray\n",
    "    \n",
    "    return bytes(byte_array)\n",
    "\n",
    "def byte_to_binary_string(byte_obj):\n",
    "    # Convert each byte to its binary representation and join them\n",
    "    return ''.join(format(byte, '08b') for byte in byte_obj)\n",
    "\n",
    "\n",
    "# Example byte object\n",
    "byte_string = b'#\\xa2,'  # Equivalent to [0x23, 0xA2, 0x2C]\n",
    "\n",
    "# Convert to binary string\n",
    "binary_string = byte_to_binary_string(byte_string)\n",
    "\n",
    "print(f\"The binary representation is: {binary_string}\")"
   ]
  },
  {
   "cell_type": "markdown",
   "metadata": {},
   "source": [
    "### Encode"
   ]
  },
  {
   "cell_type": "code",
   "execution_count": 5,
   "metadata": {},
   "outputs": [
    {
     "name": "stdout",
     "output_type": "stream",
     "text": [
      "001000111010001000101100\n",
      "b'#\\xa2,'\n",
      "len:  3\n"
     ]
    },
    {
     "data": {
      "text/plain": [
       "b'#\\xa2,'"
      ]
     },
     "execution_count": 5,
     "metadata": {},
     "output_type": "execute_result"
    }
   ],
   "source": [
    "def temp_to_bytes(temp: float):\n",
    "    mantissa = 100\n",
    "    temp_int = int(temp*mantissa)\n",
    "    binary_representation = format(temp_int, 'b')\n",
    "    \n",
    "    # We add padding\n",
    "    if len(binary_representation) < 14:\n",
    "        binary_representation = '0'*(14 - len(binary_representation)) + binary_representation\n",
    "\n",
    "    return binary_representation\n",
    "\n",
    "def humidity_to_bytes(humidity: int):\n",
    "    binary_representation = format(humidity, 'b')\n",
    "    \n",
    "    # We add padding\n",
    "    if len(binary_representation) < 7:\n",
    "        binary_representation = '0'*(7 - len(binary_representation)) + binary_representation\n",
    "\n",
    "    return binary_representation\n",
    "\n",
    "def wind_to_bytes(wind_dir: str):\n",
    "    return wind_to_byte[wind_dir]\n",
    "\n",
    "def encode(dictionary: dict):\n",
    "    temperature = dictionary['temperatura']\n",
    "    humidity = dictionary['humedad']\n",
    "    wind = dictionary['direccion_viento']\n",
    "    \n",
    "    temp_bytes = temp_to_bytes(temperature)\n",
    "    humdity_bytes = humidity_to_bytes(humidity)\n",
    "    wind_bytes = wind_to_bytes(wind)\n",
    "\n",
    "    byte_string = temp_bytes + humdity_bytes + wind_bytes\n",
    "    print(byte_string)\n",
    "\n",
    "    byte = binary_string_to_byte(byte_string)\n",
    "    print(byte)\n",
    "    print('len: ', len(byte))\n",
    "\n",
    "    return byte\n",
    "\n",
    "encode({\"temperatura\": 22.8, \"humedad\": 69, \"direccion_viento\": \"S\"})"
   ]
  },
  {
   "cell_type": "markdown",
   "metadata": {},
   "source": [
    "### Decode"
   ]
  },
  {
   "cell_type": "code",
   "execution_count": 6,
   "metadata": {},
   "outputs": [
    {
     "name": "stdout",
     "output_type": "stream",
     "text": [
      "{'temperatura': 22.8, 'humedad': 69, 'direccion_viento': 'S'}\n"
     ]
    }
   ],
   "source": [
    "def bytes_to_temp(byte_str: str):\n",
    "    temp_str = byte_str[:14]\n",
    "    mantissa = 100\n",
    "    integer_value = int(temp_str, 2)\n",
    "    temp = integer_value/mantissa\n",
    "    return temp\n",
    "    \n",
    "def bytes_to_humidity(byte_str: str):\n",
    "    humidity_str = byte_str[14:21]\n",
    "    integer_value = int(humidity_str, 2)\n",
    "    return integer_value\n",
    "\n",
    "def bytes_to_wind(byte_str: str):\n",
    "    wind_str = byte_str[21:24]\n",
    "    return byte_to_wind[wind_str]\n",
    "\n",
    "def decode(byte_arr: bytearray):\n",
    "    byte_arr = bytes(byte_arr)\n",
    "    bit_str = byte_to_binary_string(byte_arr)\n",
    "\n",
    "    temp = bytes_to_temp(bit_str)    \n",
    "    humidity = bytes_to_humidity(bit_str)    \n",
    "    wind = bytes_to_wind(bit_str)\n",
    "\n",
    "    return {\n",
    "        \"temperatura\": temp, \n",
    "        \"humedad\": humidity, \n",
    "        \"direccion_viento\": wind\n",
    "        }\n",
    "    \n",
    "print(decode(b'#\\xa2,'))\n"
   ]
  },
  {
   "cell_type": "markdown",
   "metadata": {},
   "source": [
    "## Simulación de Sensores"
   ]
  },
  {
   "cell_type": "code",
   "execution_count": 7,
   "metadata": {},
   "outputs": [],
   "source": [
    "def get_temperature(mean_temp: int, std_dev: int):\n",
    "    res = np.random.normal(mean_temp, std_dev, 1)\n",
    "    res = np.clip(res, 0, 110)[0]\n",
    "    return round(res, 2)\n",
    "\n",
    "def get_humidity(mean_humidity: int, std_dev: int):\n",
    "    humidity_sample = np.random.normal(mean_humidity, std_dev, 1)\n",
    "    res = np.clip(humidity_sample, 0, 100)[0]\n",
    "    return int(res)\n",
    "\n",
    "def get_wind_dir():\n",
    "    directions = [\"N\", \"NO\", \"O\", \"SO\", \"S\", \"SE\", \"E\", \"NE\"]\n",
    "    return random.choice(directions)\n",
    "\n",
    "def to_dict(temp: int, humidity: int, wind_dir: str):\n",
    "    dictionary = {\n",
    "        \"temperatura\": temp,\n",
    "        \"humedad\": humidity,\n",
    "        \"direccion_viento\": wind_dir\n",
    "    }\n",
    "\n",
    "    return dictionary"
   ]
  },
  {
   "cell_type": "markdown",
   "metadata": {},
   "source": [
    "## Envío de Datos al Edge Server\n",
    "Nota: El stream de datos debe detenerse manualmente, de forma que se levante un `KeyboardInterupt`."
   ]
  },
  {
   "cell_type": "code",
   "execution_count": 8,
   "metadata": {},
   "outputs": [],
   "source": [
    "def send_data(producer):\n",
    "    while True:\n",
    "        temperature = get_temperature(mean_temp=15, std_dev=5)\n",
    "        humidity = get_humidity(mean_humidity=60, std_dev=15)    \n",
    "        wind_dir = get_wind_dir()\n",
    "        data = to_dict(temperature, humidity, wind_dir)\n",
    "        encoded = bytearray(encode(data))\n",
    "\n",
    "        # Genera y envía los datos        \n",
    "        producer.send(TOPIC, value=encoded)\n",
    "        print(f\"Enviado: {data}\")\n",
    "\n",
    "        # Espera entre 15 y 30 segundos antes de enviar el siguiente dato\n",
    "        time_to_sleep = random.randint(15, 30)\n",
    "        time.sleep(time_to_sleep)"
   ]
  },
  {
   "cell_type": "code",
   "execution_count": 9,
   "metadata": {},
   "outputs": [
    {
     "name": "stdout",
     "output_type": "stream",
     "text": [
      "000101000111100111001000\n",
      "b'\\x14y\\xc8'\n",
      "len:  3\n",
      "Enviado: {'temperatura': np.float64(13.1), 'humedad': 57, 'direccion_viento': 'N'}\n",
      "Process finished successfully\n"
     ]
    }
   ],
   "source": [
    "producer = KafkaProducer(\n",
    "    bootstrap_servers=KAFKA_SERVER,\n",
    "    value_serializer=lambda v: v\n",
    ")\n",
    "\n",
    "try:\n",
    "    send_data(producer)\n",
    "except KeyboardInterrupt:\n",
    "    print(\"Process finished successfully\")\n",
    "finally:\n",
    "    # Ensure all messages are sent\n",
    "    producer.flush()\n",
    "    producer.close()"
   ]
  },
  {
   "cell_type": "markdown",
   "metadata": {},
   "source": [
    "### Constancia\n",
    "![images/producer.png](images/producer.png)"
   ]
  },
  {
   "cell_type": "markdown",
   "metadata": {},
   "source": [
    "## Consumir y Desplegar Datos Meteorológicos"
   ]
  },
  {
   "cell_type": "code",
   "execution_count": 24,
   "metadata": {},
   "outputs": [],
   "source": [
    "all_temp = []\n",
    "all_hume = []\n",
    "all_wind = []\n",
    "\n",
    "def plot_all_data(temp_data, hume_data, wind_data):\n",
    "    plt.figure(figsize=(10, 6))\n",
    "\n",
    "    plt.subplot(3, 1, 1)\n",
    "    plt.plot(temp_data, color='red', label='Temperatura')\n",
    "    plt.legend()\n",
    "\n",
    "    plt.subplot(3, 1, 2)\n",
    "    plt.plot(hume_data, color='blue', label='Humedad')\n",
    "    plt.legend()\n",
    "\n",
    "    plt.subplot(3, 1, 3)\n",
    "    plt.plot(wind_data, color='green', label='Dirección del viento')\n",
    "    plt.legend()\n",
    "\n",
    "    plt.tight_layout()\n",
    "    plt.show()\n",
    "\n",
    "\n",
    "def process_msg(mensaje):\n",
    "    payload = json.loads(mensaje.value)\n",
    "    payload = json.loads(payload)\n",
    "    return {\n",
    "        'temperatura': payload.get('temperatura'),\n",
    "        'humedad': payload.get('humedad'),\n",
    "        'direccion_viento': payload.get('direccion_viento')\n",
    "    }\n",
    "\n",
    "def consume_events(consumer):\n",
    "    # Consume mensajes y procesa los datos\n",
    "    for msg in consumer:        \n",
    "        payload = decode(msg.value)\n",
    "        print(payload)\n",
    "        # payload = process_msg(payload)\n",
    "        \n",
    "        # Agrega los datos a las listas\n",
    "        all_temp.append(payload['temperatura'])\n",
    "        all_hume.append(payload['humedad'])\n",
    "        all_wind.append(payload['direccion_viento'])\n"
   ]
  },
  {
   "cell_type": "code",
   "execution_count": 25,
   "metadata": {},
   "outputs": [
    {
     "name": "stdout",
     "output_type": "stream",
     "text": [
      "{'temperatura': 8.18, 'humedad': 90, 'direccion_viento': 'O'}\n",
      "{'temperatura': 16.8, 'humedad': 89, 'direccion_viento': 'SO'}\n",
      "{'temperatura': 12.23, 'humedad': 79, 'direccion_viento': 'SO'}\n",
      "{'temperatura': 13.73, 'humedad': 74, 'direccion_viento': 'S'}\n",
      "{'temperatura': 10.9, 'humedad': 59, 'direccion_viento': 'SE'}\n",
      "Process finished successfully\n"
     ]
    },
    {
     "data": {
      "image/png": "[encoded data removed]",
      "text/plain": [
       "<Figure size 1000x600 with 3 Axes>"
      ]
     },
     "metadata": {},
     "output_type": "display_data"
    }
   ],
   "source": [
    "consumer = KafkaConsumer(\n",
    "    TOPIC,    \n",
    "    bootstrap_servers=KAFKA_SERVER,  \n",
    "    value_deserializer=lambda x: x\n",
    ")\n",
    "\n",
    "try:\n",
    "    consume_events(consumer)\n",
    "except KeyboardInterrupt:\n",
    "    print(\"Process finished successfully\")\n",
    "finally:     \n",
    "    consumer.close()\n",
    "    # Realiza un análisis o graficación de los datos\n",
    "    plot_all_data(all_temp, all_hume, all_wind)"
   ]
  }
 ],
 "metadata": {
  "kernelspec": {
   "display_name": "redes_lab9",
   "language": "python",
   "name": "python3"
  },
  "language_info": {
   "codemirror_mode": {
    "name": "ipython",
    "version": 3
   },
   "file_extension": ".py",
   "mimetype": "text/x-python",
   "name": "python",
   "nbconvert_exporter": "python",
   "pygments_lexer": "ipython3",
   "version": "3.10.15"
  }
 },
 "nbformat": 4,
 "nbformat_minor": 2
}
